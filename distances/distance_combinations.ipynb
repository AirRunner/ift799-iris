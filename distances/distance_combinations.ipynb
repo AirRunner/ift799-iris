{
 "cells": [
  {
   "cell_type": "markdown",
   "metadata": {},
   "source": [
    "# Pair distances"
   ]
  },
  {
   "cell_type": "code",
   "execution_count": 1,
   "metadata": {},
   "outputs": [],
   "source": [
    "import pandas as pd\n",
    "import numpy as np"
   ]
  },
  {
   "cell_type": "code",
   "execution_count": 2,
   "metadata": {},
   "outputs": [],
   "source": [
    "iris = pd.read_csv(\"../data/iris_cleaned.csv\")"
   ]
  },
  {
   "cell_type": "code",
   "execution_count": 3,
   "metadata": {
    "scrolled": false
   },
   "outputs": [
    {
     "name": "stdout",
     "output_type": "stream",
     "text": [
      "2 ('sepal_length', 'sepal_width')\n",
      "   separated_euclid  separated_mahala\n",
      "0             False             False\n",
      "1             False             False\n",
      "2             False             False\n",
      "3             False             False\n",
      "4             False             False\n",
      "5             False             False\n",
      "2 ('sepal_length', 'petal_length')\n",
      "   separated_euclid  separated_mahala\n",
      "0              True              True\n",
      "1              True              True\n",
      "2              True              True\n",
      "3              True              True\n",
      "4             False             False\n",
      "5             False             False\n",
      "2 ('sepal_length', 'petal_width')\n",
      "   separated_euclid  separated_mahala\n",
      "0             False             False\n",
      "1             False             False\n",
      "2              True             False\n",
      "3              True             False\n",
      "4             False             False\n",
      "5             False             False\n",
      "2 ('sepal_width', 'petal_length')\n",
      "   separated_euclid  separated_mahala\n",
      "0              True              True\n",
      "1              True              True\n",
      "2              True              True\n",
      "3              True              True\n",
      "4             False             False\n",
      "5             False             False\n",
      "2 ('sepal_width', 'petal_width')\n",
      "   separated_euclid  separated_mahala\n",
      "0             False             False\n",
      "1              True              True\n",
      "2              True              True\n",
      "3              True              True\n",
      "4             False             False\n",
      "5             False             False\n",
      "2 ('petal_length', 'petal_width')\n",
      "   separated_euclid  separated_mahala\n",
      "0              True              True\n",
      "1              True              True\n",
      "2              True              True\n",
      "3              True              True\n",
      "4             False             False\n",
      "5             False             False\n",
      "3 ('sepal_length', 'sepal_width', 'petal_length')\n",
      "   separated_euclid  separated_mahala\n",
      "0              True              True\n",
      "1              True              True\n",
      "2              True              True\n",
      "3              True              True\n",
      "4             False             False\n",
      "5             False             False\n",
      "3 ('sepal_length', 'sepal_width', 'petal_width')\n",
      "   separated_euclid  separated_mahala\n",
      "0              True             False\n",
      "1              True             False\n",
      "2              True             False\n",
      "3              True             False\n",
      "4             False             False\n",
      "5             False             False\n",
      "3 ('sepal_length', 'petal_length', 'petal_width')\n",
      "   separated_euclid  separated_mahala\n",
      "0              True              True\n",
      "1              True              True\n",
      "2              True              True\n",
      "3              True              True\n",
      "4             False             False\n",
      "5             False             False\n",
      "3 ('sepal_width', 'petal_length', 'petal_width')\n",
      "   separated_euclid  separated_mahala\n",
      "0              True              True\n",
      "1              True              True\n",
      "2              True              True\n",
      "3              True              True\n",
      "4             False             False\n",
      "5             False             False\n",
      "4 ('sepal_length', 'sepal_width', 'petal_length', 'petal_width')\n",
      "   separated_euclid  separated_mahala\n",
      "0              True              True\n",
      "1              True              True\n",
      "2              True              True\n",
      "3              True              True\n",
      "4             False             False\n",
      "5             False             False\n"
     ]
    }
   ],
   "source": [
    "from sklearn.preprocessing import StandardScaler\n",
    "from itertools import combinations\n",
    "from distances import pair_distances\n",
    "\n",
    "for i in range(2, 5):\n",
    "    for comb in combinations(iris.columns[:-1], i):\n",
    "        print(i, comb)\n",
    "        \n",
    "        iris_comb = iris[list(comb)].copy()\n",
    "        x_scaled = StandardScaler().fit_transform(iris_comb)\n",
    "        iris_comb[\"species\"] = iris.species\n",
    "        iris_scaled = pd.DataFrame(x_scaled, columns=iris_comb.columns[:-1])\n",
    "        iris_scaled[\"species\"] = iris.species\n",
    "        iris_cov_scaled = np.cov(iris_scaled.drop('species', axis=1).transpose())\n",
    "        \n",
    "        print(pair_distances(iris_comb, iris_cov_scaled)[[\"separated_euclid\", \"separated_mahala\"]])"
   ]
  },
  {
   "cell_type": "markdown",
   "metadata": {},
   "source": [
    "We can conclude that *setosa* and *versicolor* are separated, as well as *setosa* and *virginica*.\n",
    "\n",
    "However, we cannot assert that *versicolor* and *virginica* are separated."
   ]
  }
 ],
 "metadata": {
  "interpreter": {
   "hash": "4dfb552bd7b425c8d023d8146f63bba2f8bb50191df3a2410ecd215b37408267"
  },
  "kernelspec": {
   "display_name": "Python 3 (ipykernel)",
   "language": "python",
   "name": "python3"
  },
  "language_info": {
   "codemirror_mode": {
    "name": "ipython",
    "version": 3
   },
   "file_extension": ".py",
   "mimetype": "text/x-python",
   "name": "python",
   "nbconvert_exporter": "python",
   "pygments_lexer": "ipython3",
   "version": "3.9.7"
  }
 },
 "nbformat": 4,
 "nbformat_minor": 2
}
