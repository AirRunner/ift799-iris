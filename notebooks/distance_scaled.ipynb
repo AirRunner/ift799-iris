{
 "cells": [
  {
   "cell_type": "markdown",
   "source": [
    "# Data Science Lab 1 - Iris dataset"
   ],
   "metadata": {}
  },
  {
   "cell_type": "markdown",
   "source": [
    "The goal is to determine wether or not the various classes of Iris are separated."
   ],
   "metadata": {}
  },
  {
   "cell_type": "markdown",
   "source": [
    "## Method 1 - distances"
   ],
   "metadata": {}
  },
  {
   "cell_type": "code",
   "execution_count": 1,
   "source": [
    "import pandas as pd\n",
    "import numpy as np"
   ],
   "outputs": [],
   "metadata": {}
  },
  {
   "cell_type": "code",
   "execution_count": 2,
   "source": [
    "iris = pd.read_csv(\"../data/iris.csv\").drop([\"sepal_width\"], axis=1)\n",
    "iris"
   ],
   "outputs": [
    {
     "output_type": "execute_result",
     "data": {
      "text/html": [
       "<div>\n",
       "<style scoped>\n",
       "    .dataframe tbody tr th:only-of-type {\n",
       "        vertical-align: middle;\n",
       "    }\n",
       "\n",
       "    .dataframe tbody tr th {\n",
       "        vertical-align: top;\n",
       "    }\n",
       "\n",
       "    .dataframe thead th {\n",
       "        text-align: right;\n",
       "    }\n",
       "</style>\n",
       "<table border=\"1\" class=\"dataframe\">\n",
       "  <thead>\n",
       "    <tr style=\"text-align: right;\">\n",
       "      <th></th>\n",
       "      <th>sepal_length</th>\n",
       "      <th>petal_length</th>\n",
       "      <th>petal_width</th>\n",
       "      <th>species</th>\n",
       "    </tr>\n",
       "  </thead>\n",
       "  <tbody>\n",
       "    <tr>\n",
       "      <th>0</th>\n",
       "      <td>5.1</td>\n",
       "      <td>1.4</td>\n",
       "      <td>0.2</td>\n",
       "      <td>setosa</td>\n",
       "    </tr>\n",
       "    <tr>\n",
       "      <th>1</th>\n",
       "      <td>4.9</td>\n",
       "      <td>1.4</td>\n",
       "      <td>0.2</td>\n",
       "      <td>setosa</td>\n",
       "    </tr>\n",
       "    <tr>\n",
       "      <th>2</th>\n",
       "      <td>4.7</td>\n",
       "      <td>1.3</td>\n",
       "      <td>0.2</td>\n",
       "      <td>setosa</td>\n",
       "    </tr>\n",
       "    <tr>\n",
       "      <th>3</th>\n",
       "      <td>4.6</td>\n",
       "      <td>1.5</td>\n",
       "      <td>0.2</td>\n",
       "      <td>setosa</td>\n",
       "    </tr>\n",
       "    <tr>\n",
       "      <th>4</th>\n",
       "      <td>5.0</td>\n",
       "      <td>1.4</td>\n",
       "      <td>0.2</td>\n",
       "      <td>setosa</td>\n",
       "    </tr>\n",
       "    <tr>\n",
       "      <th>...</th>\n",
       "      <td>...</td>\n",
       "      <td>...</td>\n",
       "      <td>...</td>\n",
       "      <td>...</td>\n",
       "    </tr>\n",
       "    <tr>\n",
       "      <th>145</th>\n",
       "      <td>6.7</td>\n",
       "      <td>5.2</td>\n",
       "      <td>2.3</td>\n",
       "      <td>virginica</td>\n",
       "    </tr>\n",
       "    <tr>\n",
       "      <th>146</th>\n",
       "      <td>6.3</td>\n",
       "      <td>5.0</td>\n",
       "      <td>1.9</td>\n",
       "      <td>virginica</td>\n",
       "    </tr>\n",
       "    <tr>\n",
       "      <th>147</th>\n",
       "      <td>6.5</td>\n",
       "      <td>5.2</td>\n",
       "      <td>2.0</td>\n",
       "      <td>virginica</td>\n",
       "    </tr>\n",
       "    <tr>\n",
       "      <th>148</th>\n",
       "      <td>6.2</td>\n",
       "      <td>5.4</td>\n",
       "      <td>2.3</td>\n",
       "      <td>virginica</td>\n",
       "    </tr>\n",
       "    <tr>\n",
       "      <th>149</th>\n",
       "      <td>5.9</td>\n",
       "      <td>5.1</td>\n",
       "      <td>1.8</td>\n",
       "      <td>virginica</td>\n",
       "    </tr>\n",
       "  </tbody>\n",
       "</table>\n",
       "<p>150 rows × 4 columns</p>\n",
       "</div>"
      ],
      "text/plain": [
       "     sepal_length  petal_length  petal_width    species\n",
       "0             5.1           1.4          0.2     setosa\n",
       "1             4.9           1.4          0.2     setosa\n",
       "2             4.7           1.3          0.2     setosa\n",
       "3             4.6           1.5          0.2     setosa\n",
       "4             5.0           1.4          0.2     setosa\n",
       "..            ...           ...          ...        ...\n",
       "145           6.7           5.2          2.3  virginica\n",
       "146           6.3           5.0          1.9  virginica\n",
       "147           6.5           5.2          2.0  virginica\n",
       "148           6.2           5.4          2.3  virginica\n",
       "149           5.9           5.1          1.8  virginica\n",
       "\n",
       "[150 rows x 4 columns]"
      ]
     },
     "metadata": {},
     "execution_count": 2
    }
   ],
   "metadata": {}
  },
  {
   "cell_type": "code",
   "execution_count": 3,
   "source": [
    "from sklearn.preprocessing import StandardScaler\n",
    "\n",
    "x = iris.drop('species', axis=1)\n",
    "y = iris['species']\n",
    "\n",
    "x_scaled = StandardScaler().fit_transform(x)\n",
    "iris_scaled = pd.DataFrame(x_scaled, columns=iris.columns[:-1])\n",
    "iris_scaled[\"species\"] = y\n",
    "iris_scaled"
   ],
   "outputs": [
    {
     "output_type": "execute_result",
     "data": {
      "text/html": [
       "<div>\n",
       "<style scoped>\n",
       "    .dataframe tbody tr th:only-of-type {\n",
       "        vertical-align: middle;\n",
       "    }\n",
       "\n",
       "    .dataframe tbody tr th {\n",
       "        vertical-align: top;\n",
       "    }\n",
       "\n",
       "    .dataframe thead th {\n",
       "        text-align: right;\n",
       "    }\n",
       "</style>\n",
       "<table border=\"1\" class=\"dataframe\">\n",
       "  <thead>\n",
       "    <tr style=\"text-align: right;\">\n",
       "      <th></th>\n",
       "      <th>sepal_length</th>\n",
       "      <th>petal_length</th>\n",
       "      <th>petal_width</th>\n",
       "      <th>species</th>\n",
       "    </tr>\n",
       "  </thead>\n",
       "  <tbody>\n",
       "    <tr>\n",
       "      <th>0</th>\n",
       "      <td>-0.900681</td>\n",
       "      <td>-1.340227</td>\n",
       "      <td>-1.315444</td>\n",
       "      <td>setosa</td>\n",
       "    </tr>\n",
       "    <tr>\n",
       "      <th>1</th>\n",
       "      <td>-1.143017</td>\n",
       "      <td>-1.340227</td>\n",
       "      <td>-1.315444</td>\n",
       "      <td>setosa</td>\n",
       "    </tr>\n",
       "    <tr>\n",
       "      <th>2</th>\n",
       "      <td>-1.385353</td>\n",
       "      <td>-1.397064</td>\n",
       "      <td>-1.315444</td>\n",
       "      <td>setosa</td>\n",
       "    </tr>\n",
       "    <tr>\n",
       "      <th>3</th>\n",
       "      <td>-1.506521</td>\n",
       "      <td>-1.283389</td>\n",
       "      <td>-1.315444</td>\n",
       "      <td>setosa</td>\n",
       "    </tr>\n",
       "    <tr>\n",
       "      <th>4</th>\n",
       "      <td>-1.021849</td>\n",
       "      <td>-1.340227</td>\n",
       "      <td>-1.315444</td>\n",
       "      <td>setosa</td>\n",
       "    </tr>\n",
       "    <tr>\n",
       "      <th>...</th>\n",
       "      <td>...</td>\n",
       "      <td>...</td>\n",
       "      <td>...</td>\n",
       "      <td>...</td>\n",
       "    </tr>\n",
       "    <tr>\n",
       "      <th>145</th>\n",
       "      <td>1.038005</td>\n",
       "      <td>0.819596</td>\n",
       "      <td>1.448832</td>\n",
       "      <td>virginica</td>\n",
       "    </tr>\n",
       "    <tr>\n",
       "      <th>146</th>\n",
       "      <td>0.553333</td>\n",
       "      <td>0.705921</td>\n",
       "      <td>0.922303</td>\n",
       "      <td>virginica</td>\n",
       "    </tr>\n",
       "    <tr>\n",
       "      <th>147</th>\n",
       "      <td>0.795669</td>\n",
       "      <td>0.819596</td>\n",
       "      <td>1.053935</td>\n",
       "      <td>virginica</td>\n",
       "    </tr>\n",
       "    <tr>\n",
       "      <th>148</th>\n",
       "      <td>0.432165</td>\n",
       "      <td>0.933271</td>\n",
       "      <td>1.448832</td>\n",
       "      <td>virginica</td>\n",
       "    </tr>\n",
       "    <tr>\n",
       "      <th>149</th>\n",
       "      <td>0.068662</td>\n",
       "      <td>0.762758</td>\n",
       "      <td>0.790671</td>\n",
       "      <td>virginica</td>\n",
       "    </tr>\n",
       "  </tbody>\n",
       "</table>\n",
       "<p>150 rows × 4 columns</p>\n",
       "</div>"
      ],
      "text/plain": [
       "     sepal_length  petal_length  petal_width    species\n",
       "0       -0.900681     -1.340227    -1.315444     setosa\n",
       "1       -1.143017     -1.340227    -1.315444     setosa\n",
       "2       -1.385353     -1.397064    -1.315444     setosa\n",
       "3       -1.506521     -1.283389    -1.315444     setosa\n",
       "4       -1.021849     -1.340227    -1.315444     setosa\n",
       "..            ...           ...          ...        ...\n",
       "145      1.038005      0.819596     1.448832  virginica\n",
       "146      0.553333      0.705921     0.922303  virginica\n",
       "147      0.795669      0.819596     1.053935  virginica\n",
       "148      0.432165      0.933271     1.448832  virginica\n",
       "149      0.068662      0.762758     0.790671  virginica\n",
       "\n",
       "[150 rows x 4 columns]"
      ]
     },
     "metadata": {},
     "execution_count": 3
    }
   ],
   "metadata": {}
  },
  {
   "cell_type": "markdown",
   "source": [
    "### General distance"
   ],
   "metadata": {}
  },
  {
   "cell_type": "code",
   "execution_count": 4,
   "source": [
    "iris_center = iris.groupby(\"species\").mean().transpose()\n",
    "iris_center"
   ],
   "outputs": [
    {
     "output_type": "execute_result",
     "data": {
      "text/html": [
       "<div>\n",
       "<style scoped>\n",
       "    .dataframe tbody tr th:only-of-type {\n",
       "        vertical-align: middle;\n",
       "    }\n",
       "\n",
       "    .dataframe tbody tr th {\n",
       "        vertical-align: top;\n",
       "    }\n",
       "\n",
       "    .dataframe thead th {\n",
       "        text-align: right;\n",
       "    }\n",
       "</style>\n",
       "<table border=\"1\" class=\"dataframe\">\n",
       "  <thead>\n",
       "    <tr style=\"text-align: right;\">\n",
       "      <th>species</th>\n",
       "      <th>setosa</th>\n",
       "      <th>versicolor</th>\n",
       "      <th>virginica</th>\n",
       "    </tr>\n",
       "  </thead>\n",
       "  <tbody>\n",
       "    <tr>\n",
       "      <th>sepal_length</th>\n",
       "      <td>5.006</td>\n",
       "      <td>5.936</td>\n",
       "      <td>6.588</td>\n",
       "    </tr>\n",
       "    <tr>\n",
       "      <th>petal_length</th>\n",
       "      <td>1.462</td>\n",
       "      <td>4.260</td>\n",
       "      <td>5.552</td>\n",
       "    </tr>\n",
       "    <tr>\n",
       "      <th>petal_width</th>\n",
       "      <td>0.246</td>\n",
       "      <td>1.326</td>\n",
       "      <td>2.026</td>\n",
       "    </tr>\n",
       "  </tbody>\n",
       "</table>\n",
       "</div>"
      ],
      "text/plain": [
       "species       setosa  versicolor  virginica\n",
       "sepal_length   5.006       5.936      6.588\n",
       "petal_length   1.462       4.260      5.552\n",
       "petal_width    0.246       1.326      2.026"
      ]
     },
     "metadata": {},
     "execution_count": 4
    }
   ],
   "metadata": {}
  },
  {
   "cell_type": "code",
   "execution_count": 5,
   "source": [
    "from methods import distance\n",
    "\n",
    "v1 = iris[iris['species'] == 'setosa'].iloc[0, :-1]\n",
    "v2 = iris_center['setosa']\n",
    "\n",
    "distance(v1, v2)"
   ],
   "outputs": [
    {
     "output_type": "execute_result",
     "data": {
      "text/plain": [
       "0.12163880959627935"
      ]
     },
     "metadata": {},
     "execution_count": 5
    }
   ],
   "metadata": {}
  },
  {
   "cell_type": "code",
   "execution_count": 6,
   "source": [
    "iris_cov = np.cov(iris.drop('species', axis=1).transpose())\n",
    "iris_cov_scaled = np.cov(iris_scaled.drop('species', axis=1).transpose())\n",
    "distance(v1, v2, metric=\"mahalanobis\", cov=iris_cov)"
   ],
   "outputs": [
    {
     "output_type": "execute_result",
     "data": {
      "text/plain": [
       "0.09040709258210125"
      ]
     },
     "metadata": {},
     "execution_count": 6
    }
   ],
   "metadata": {}
  },
  {
   "cell_type": "code",
   "execution_count": 7,
   "source": [
    "iris_cov"
   ],
   "outputs": [
    {
     "output_type": "execute_result",
     "data": {
      "text/plain": [
       "array([[0.68569351, 1.27431544, 0.51627069],\n",
       "       [1.27431544, 3.11627785, 1.2956094 ],\n",
       "       [0.51627069, 1.2956094 , 0.58100626]])"
      ]
     },
     "metadata": {},
     "execution_count": 7
    }
   ],
   "metadata": {}
  },
  {
   "cell_type": "code",
   "execution_count": 51,
   "source": [
    "iris_cov_scaled"
   ],
   "outputs": [
    {
     "output_type": "execute_result",
     "data": {
      "text/plain": [
       "array([[1.00671141, 0.87760447, 0.82343066],\n",
       "       [0.87760447, 1.00671141, 0.96932762],\n",
       "       [0.82343066, 0.96932762, 1.00671141]])"
      ]
     },
     "metadata": {},
     "execution_count": 51
    }
   ],
   "metadata": {}
  },
  {
   "cell_type": "markdown",
   "source": [
    "### Intra-class distance"
   ],
   "metadata": {}
  },
  {
   "cell_type": "code",
   "execution_count": 52,
   "source": [
    "iris[iris['species'] == 'setosa'].apply(lambda elt: distance(elt, v2), axis=1).max()"
   ],
   "outputs": [
    {
     "output_type": "execute_result",
     "data": {
      "text/plain": [
       "0.8373744682040404"
      ]
     },
     "metadata": {},
     "execution_count": 52
    }
   ],
   "metadata": {}
  },
  {
   "cell_type": "code",
   "execution_count": 54,
   "source": [
    "from methods import intra_class\n",
    "\n",
    "print(\"Euclidean:\", intra_class(iris, 'setosa'))\n",
    "print(\"Mahalanobis:\", intra_class(iris, 'setosa', metric=\"mahalanobis\", cov=iris_cov))"
   ],
   "outputs": [
    {
     "output_type": "stream",
     "name": "stdout",
     "text": [
      "Euclidean: 0.8373744682040404\n",
      "Mahalanobis: 5.410836243257838\n"
     ]
    }
   ],
   "metadata": {}
  },
  {
   "cell_type": "markdown",
   "source": [
    "### Inter-class distance"
   ],
   "metadata": {}
  },
  {
   "cell_type": "code",
   "execution_count": 56,
   "source": [
    "from methods import inter_class\n",
    "\n",
    "print(\"Euclidean:\", inter_class(iris, 'versicolor', 'setosa'))\n",
    "print(\"Mahalanobis:\", inter_class(iris, 'versicolor', 'setosa', metric=\"mahalanobis\", cov=iris_cov))"
   ],
   "outputs": [
    {
     "output_type": "stream",
     "name": "stdout",
     "text": [
      "Euclidean: 1.761702585568858\n",
      "Mahalanobis: 1.7170378898418643\n"
     ]
    }
   ],
   "metadata": {}
  },
  {
   "cell_type": "markdown",
   "source": [
    "### Pair distances"
   ],
   "metadata": {}
  },
  {
   "cell_type": "markdown",
   "source": [
    "#### X not scaled and C not scaled"
   ],
   "metadata": {}
  },
  {
   "cell_type": "code",
   "execution_count": 58,
   "source": [
    "from methods import pair_distances\n",
    "\n",
    "pair_distances(iris, iris_cov)"
   ],
   "outputs": [
    {
     "output_type": "execute_result",
     "data": {
      "text/html": [
       "<div>\n",
       "<style scoped>\n",
       "    .dataframe tbody tr th:only-of-type {\n",
       "        vertical-align: middle;\n",
       "    }\n",
       "\n",
       "    .dataframe tbody tr th {\n",
       "        vertical-align: top;\n",
       "    }\n",
       "\n",
       "    .dataframe thead th {\n",
       "        text-align: right;\n",
       "    }\n",
       "</style>\n",
       "<table border=\"1\" class=\"dataframe\">\n",
       "  <thead>\n",
       "    <tr style=\"text-align: right;\">\n",
       "      <th></th>\n",
       "      <th>class 1</th>\n",
       "      <th>class 2</th>\n",
       "      <th>intra_euclid</th>\n",
       "      <th>inter_euclid</th>\n",
       "      <th>separated_euclid</th>\n",
       "      <th>intra_mahala</th>\n",
       "      <th>inter_mahala</th>\n",
       "      <th>separated_mahala</th>\n",
       "    </tr>\n",
       "  </thead>\n",
       "  <tbody>\n",
       "    <tr>\n",
       "      <th>0</th>\n",
       "      <td>setosa</td>\n",
       "      <td>versicolor</td>\n",
       "      <td>0.837374</td>\n",
       "      <td>1.761703</td>\n",
       "      <td>True</td>\n",
       "      <td>5.410836</td>\n",
       "      <td>1.717038</td>\n",
       "      <td>False</td>\n",
       "    </tr>\n",
       "    <tr>\n",
       "      <th>1</th>\n",
       "      <td>versicolor</td>\n",
       "      <td>setosa</td>\n",
       "      <td>1.528912</td>\n",
       "      <td>2.669452</td>\n",
       "      <td>True</td>\n",
       "      <td>4.842458</td>\n",
       "      <td>1.993424</td>\n",
       "      <td>False</td>\n",
       "    </tr>\n",
       "    <tr>\n",
       "      <th>2</th>\n",
       "      <td>setosa</td>\n",
       "      <td>virginica</td>\n",
       "      <td>0.837374</td>\n",
       "      <td>3.369688</td>\n",
       "      <td>True</td>\n",
       "      <td>5.410836</td>\n",
       "      <td>4.192113</td>\n",
       "      <td>False</td>\n",
       "    </tr>\n",
       "    <tr>\n",
       "      <th>3</th>\n",
       "      <td>virginica</td>\n",
       "      <td>setosa</td>\n",
       "      <td>2.015521</td>\n",
       "      <td>4.265574</td>\n",
       "      <td>True</td>\n",
       "      <td>13.034655</td>\n",
       "      <td>4.558769</td>\n",
       "      <td>False</td>\n",
       "    </tr>\n",
       "    <tr>\n",
       "      <th>4</th>\n",
       "      <td>versicolor</td>\n",
       "      <td>virginica</td>\n",
       "      <td>1.528912</td>\n",
       "      <td>0.721368</td>\n",
       "      <td>False</td>\n",
       "      <td>4.842458</td>\n",
       "      <td>0.546044</td>\n",
       "      <td>False</td>\n",
       "    </tr>\n",
       "    <tr>\n",
       "      <th>5</th>\n",
       "      <td>virginica</td>\n",
       "      <td>versicolor</td>\n",
       "      <td>2.015521</td>\n",
       "      <td>0.650787</td>\n",
       "      <td>False</td>\n",
       "      <td>13.034655</td>\n",
       "      <td>0.363348</td>\n",
       "      <td>False</td>\n",
       "    </tr>\n",
       "  </tbody>\n",
       "</table>\n",
       "</div>"
      ],
      "text/plain": [
       "      class 1     class 2  intra_euclid  inter_euclid  separated_euclid  \\\n",
       "0      setosa  versicolor      0.837374      1.761703              True   \n",
       "1  versicolor      setosa      1.528912      2.669452              True   \n",
       "2      setosa   virginica      0.837374      3.369688              True   \n",
       "3   virginica      setosa      2.015521      4.265574              True   \n",
       "4  versicolor   virginica      1.528912      0.721368             False   \n",
       "5   virginica  versicolor      2.015521      0.650787             False   \n",
       "\n",
       "   intra_mahala  inter_mahala  separated_mahala  \n",
       "0      5.410836      1.717038             False  \n",
       "1      4.842458      1.993424             False  \n",
       "2      5.410836      4.192113             False  \n",
       "3     13.034655      4.558769             False  \n",
       "4      4.842458      0.546044             False  \n",
       "5     13.034655      0.363348             False  "
      ]
     },
     "metadata": {},
     "execution_count": 58
    }
   ],
   "metadata": {}
  },
  {
   "cell_type": "markdown",
   "source": [
    "#### X not scaled and C scaled"
   ],
   "metadata": {}
  },
  {
   "cell_type": "code",
   "execution_count": 59,
   "source": [
    "pair_distances(iris, iris_cov_scaled)"
   ],
   "outputs": [
    {
     "output_type": "execute_result",
     "data": {
      "text/html": [
       "<div>\n",
       "<style scoped>\n",
       "    .dataframe tbody tr th:only-of-type {\n",
       "        vertical-align: middle;\n",
       "    }\n",
       "\n",
       "    .dataframe tbody tr th {\n",
       "        vertical-align: top;\n",
       "    }\n",
       "\n",
       "    .dataframe thead th {\n",
       "        text-align: right;\n",
       "    }\n",
       "</style>\n",
       "<table border=\"1\" class=\"dataframe\">\n",
       "  <thead>\n",
       "    <tr style=\"text-align: right;\">\n",
       "      <th></th>\n",
       "      <th>class 1</th>\n",
       "      <th>class 2</th>\n",
       "      <th>intra_euclid</th>\n",
       "      <th>inter_euclid</th>\n",
       "      <th>separated_euclid</th>\n",
       "      <th>intra_mahala</th>\n",
       "      <th>inter_mahala</th>\n",
       "      <th>separated_mahala</th>\n",
       "    </tr>\n",
       "  </thead>\n",
       "  <tbody>\n",
       "    <tr>\n",
       "      <th>0</th>\n",
       "      <td>setosa</td>\n",
       "      <td>versicolor</td>\n",
       "      <td>0.837374</td>\n",
       "      <td>1.761703</td>\n",
       "      <td>True</td>\n",
       "      <td>5.633190</td>\n",
       "      <td>16.409603</td>\n",
       "      <td>True</td>\n",
       "    </tr>\n",
       "    <tr>\n",
       "      <th>1</th>\n",
       "      <td>versicolor</td>\n",
       "      <td>setosa</td>\n",
       "      <td>1.528912</td>\n",
       "      <td>2.669452</td>\n",
       "      <td>True</td>\n",
       "      <td>16.157121</td>\n",
       "      <td>30.172688</td>\n",
       "      <td>True</td>\n",
       "    </tr>\n",
       "    <tr>\n",
       "      <th>2</th>\n",
       "      <td>setosa</td>\n",
       "      <td>virginica</td>\n",
       "      <td>0.837374</td>\n",
       "      <td>3.369688</td>\n",
       "      <td>True</td>\n",
       "      <td>5.633190</td>\n",
       "      <td>54.090338</td>\n",
       "      <td>True</td>\n",
       "    </tr>\n",
       "    <tr>\n",
       "      <th>3</th>\n",
       "      <td>virginica</td>\n",
       "      <td>setosa</td>\n",
       "      <td>2.015521</td>\n",
       "      <td>4.265574</td>\n",
       "      <td>True</td>\n",
       "      <td>18.961296</td>\n",
       "      <td>67.414953</td>\n",
       "      <td>True</td>\n",
       "    </tr>\n",
       "    <tr>\n",
       "      <th>4</th>\n",
       "      <td>versicolor</td>\n",
       "      <td>virginica</td>\n",
       "      <td>1.528912</td>\n",
       "      <td>0.721368</td>\n",
       "      <td>False</td>\n",
       "      <td>16.157121</td>\n",
       "      <td>0.524606</td>\n",
       "      <td>False</td>\n",
       "    </tr>\n",
       "    <tr>\n",
       "      <th>5</th>\n",
       "      <td>virginica</td>\n",
       "      <td>versicolor</td>\n",
       "      <td>2.015521</td>\n",
       "      <td>0.650787</td>\n",
       "      <td>False</td>\n",
       "      <td>18.961296</td>\n",
       "      <td>0.359552</td>\n",
       "      <td>False</td>\n",
       "    </tr>\n",
       "  </tbody>\n",
       "</table>\n",
       "</div>"
      ],
      "text/plain": [
       "      class 1     class 2  intra_euclid  inter_euclid  separated_euclid  \\\n",
       "0      setosa  versicolor      0.837374      1.761703              True   \n",
       "1  versicolor      setosa      1.528912      2.669452              True   \n",
       "2      setosa   virginica      0.837374      3.369688              True   \n",
       "3   virginica      setosa      2.015521      4.265574              True   \n",
       "4  versicolor   virginica      1.528912      0.721368             False   \n",
       "5   virginica  versicolor      2.015521      0.650787             False   \n",
       "\n",
       "   intra_mahala  inter_mahala  separated_mahala  \n",
       "0      5.633190     16.409603              True  \n",
       "1     16.157121     30.172688              True  \n",
       "2      5.633190     54.090338              True  \n",
       "3     18.961296     67.414953              True  \n",
       "4     16.157121      0.524606             False  \n",
       "5     18.961296      0.359552             False  "
      ]
     },
     "metadata": {},
     "execution_count": 59
    }
   ],
   "metadata": {}
  },
  {
   "cell_type": "markdown",
   "source": [
    "#### X scaled and C scaled"
   ],
   "metadata": {}
  },
  {
   "cell_type": "code",
   "execution_count": 60,
   "source": [
    "pair_distances(iris_scaled, iris_cov_scaled)"
   ],
   "outputs": [
    {
     "output_type": "execute_result",
     "data": {
      "text/html": [
       "<div>\n",
       "<style scoped>\n",
       "    .dataframe tbody tr th:only-of-type {\n",
       "        vertical-align: middle;\n",
       "    }\n",
       "\n",
       "    .dataframe tbody tr th {\n",
       "        vertical-align: top;\n",
       "    }\n",
       "\n",
       "    .dataframe thead th {\n",
       "        text-align: right;\n",
       "    }\n",
       "</style>\n",
       "<table border=\"1\" class=\"dataframe\">\n",
       "  <thead>\n",
       "    <tr style=\"text-align: right;\">\n",
       "      <th></th>\n",
       "      <th>class 1</th>\n",
       "      <th>class 2</th>\n",
       "      <th>intra_euclid</th>\n",
       "      <th>inter_euclid</th>\n",
       "      <th>separated_euclid</th>\n",
       "      <th>intra_mahala</th>\n",
       "      <th>inter_mahala</th>\n",
       "      <th>separated_mahala</th>\n",
       "    </tr>\n",
       "  </thead>\n",
       "  <tbody>\n",
       "    <tr>\n",
       "      <th>0</th>\n",
       "      <td>setosa</td>\n",
       "      <td>versicolor</td>\n",
       "      <td>0.975411</td>\n",
       "      <td>1.428571</td>\n",
       "      <td>True</td>\n",
       "      <td>5.410836</td>\n",
       "      <td>1.717038</td>\n",
       "      <td>False</td>\n",
       "    </tr>\n",
       "    <tr>\n",
       "      <th>1</th>\n",
       "      <td>versicolor</td>\n",
       "      <td>setosa</td>\n",
       "      <td>1.434449</td>\n",
       "      <td>2.005712</td>\n",
       "      <td>True</td>\n",
       "      <td>4.842458</td>\n",
       "      <td>1.993424</td>\n",
       "      <td>False</td>\n",
       "    </tr>\n",
       "    <tr>\n",
       "      <th>2</th>\n",
       "      <td>setosa</td>\n",
       "      <td>virginica</td>\n",
       "      <td>0.975411</td>\n",
       "      <td>2.580930</td>\n",
       "      <td>True</td>\n",
       "      <td>5.410836</td>\n",
       "      <td>4.192113</td>\n",
       "      <td>False</td>\n",
       "    </tr>\n",
       "    <tr>\n",
       "      <th>3</th>\n",
       "      <td>virginica</td>\n",
       "      <td>setosa</td>\n",
       "      <td>2.173700</td>\n",
       "      <td>3.323073</td>\n",
       "      <td>True</td>\n",
       "      <td>13.034655</td>\n",
       "      <td>4.558769</td>\n",
       "      <td>False</td>\n",
       "    </tr>\n",
       "    <tr>\n",
       "      <th>4</th>\n",
       "      <td>versicolor</td>\n",
       "      <td>virginica</td>\n",
       "      <td>1.434449</td>\n",
       "      <td>0.485154</td>\n",
       "      <td>False</td>\n",
       "      <td>4.842458</td>\n",
       "      <td>0.546044</td>\n",
       "      <td>False</td>\n",
       "    </tr>\n",
       "    <tr>\n",
       "      <th>5</th>\n",
       "      <td>virginica</td>\n",
       "      <td>versicolor</td>\n",
       "      <td>2.173700</td>\n",
       "      <td>0.548631</td>\n",
       "      <td>False</td>\n",
       "      <td>13.034655</td>\n",
       "      <td>0.363348</td>\n",
       "      <td>False</td>\n",
       "    </tr>\n",
       "  </tbody>\n",
       "</table>\n",
       "</div>"
      ],
      "text/plain": [
       "      class 1     class 2  intra_euclid  inter_euclid  separated_euclid  \\\n",
       "0      setosa  versicolor      0.975411      1.428571              True   \n",
       "1  versicolor      setosa      1.434449      2.005712              True   \n",
       "2      setosa   virginica      0.975411      2.580930              True   \n",
       "3   virginica      setosa      2.173700      3.323073              True   \n",
       "4  versicolor   virginica      1.434449      0.485154             False   \n",
       "5   virginica  versicolor      2.173700      0.548631             False   \n",
       "\n",
       "   intra_mahala  inter_mahala  separated_mahala  \n",
       "0      5.410836      1.717038             False  \n",
       "1      4.842458      1.993424             False  \n",
       "2      5.410836      4.192113             False  \n",
       "3     13.034655      4.558769             False  \n",
       "4      4.842458      0.546044             False  \n",
       "5     13.034655      0.363348             False  "
      ]
     },
     "metadata": {},
     "execution_count": 60
    }
   ],
   "metadata": {}
  },
  {
   "cell_type": "markdown",
   "source": [
    "#### X scaled and C not scaled"
   ],
   "metadata": {}
  },
  {
   "cell_type": "code",
   "execution_count": 61,
   "source": [
    "pair_distances(iris_scaled, iris_cov)"
   ],
   "outputs": [
    {
     "output_type": "execute_result",
     "data": {
      "text/html": [
       "<div>\n",
       "<style scoped>\n",
       "    .dataframe tbody tr th:only-of-type {\n",
       "        vertical-align: middle;\n",
       "    }\n",
       "\n",
       "    .dataframe tbody tr th {\n",
       "        vertical-align: top;\n",
       "    }\n",
       "\n",
       "    .dataframe thead th {\n",
       "        text-align: right;\n",
       "    }\n",
       "</style>\n",
       "<table border=\"1\" class=\"dataframe\">\n",
       "  <thead>\n",
       "    <tr style=\"text-align: right;\">\n",
       "      <th></th>\n",
       "      <th>class 1</th>\n",
       "      <th>class 2</th>\n",
       "      <th>intra_euclid</th>\n",
       "      <th>inter_euclid</th>\n",
       "      <th>separated_euclid</th>\n",
       "      <th>intra_mahala</th>\n",
       "      <th>inter_mahala</th>\n",
       "      <th>separated_mahala</th>\n",
       "    </tr>\n",
       "  </thead>\n",
       "  <tbody>\n",
       "    <tr>\n",
       "      <th>0</th>\n",
       "      <td>setosa</td>\n",
       "      <td>versicolor</td>\n",
       "      <td>0.975411</td>\n",
       "      <td>1.428571</td>\n",
       "      <td>True</td>\n",
       "      <td>6.541954</td>\n",
       "      <td>5.299098</td>\n",
       "      <td>False</td>\n",
       "    </tr>\n",
       "    <tr>\n",
       "      <th>1</th>\n",
       "      <td>versicolor</td>\n",
       "      <td>setosa</td>\n",
       "      <td>1.434449</td>\n",
       "      <td>2.005712</td>\n",
       "      <td>True</td>\n",
       "      <td>8.780508</td>\n",
       "      <td>5.661205</td>\n",
       "      <td>False</td>\n",
       "    </tr>\n",
       "    <tr>\n",
       "      <th>2</th>\n",
       "      <td>setosa</td>\n",
       "      <td>virginica</td>\n",
       "      <td>0.975411</td>\n",
       "      <td>2.580930</td>\n",
       "      <td>True</td>\n",
       "      <td>6.541954</td>\n",
       "      <td>10.489044</td>\n",
       "      <td>True</td>\n",
       "    </tr>\n",
       "    <tr>\n",
       "      <th>3</th>\n",
       "      <td>virginica</td>\n",
       "      <td>setosa</td>\n",
       "      <td>2.173700</td>\n",
       "      <td>3.323073</td>\n",
       "      <td>True</td>\n",
       "      <td>22.435017</td>\n",
       "      <td>33.284382</td>\n",
       "      <td>True</td>\n",
       "    </tr>\n",
       "    <tr>\n",
       "      <th>4</th>\n",
       "      <td>versicolor</td>\n",
       "      <td>virginica</td>\n",
       "      <td>1.434449</td>\n",
       "      <td>0.485154</td>\n",
       "      <td>False</td>\n",
       "      <td>8.780508</td>\n",
       "      <td>0.163189</td>\n",
       "      <td>False</td>\n",
       "    </tr>\n",
       "    <tr>\n",
       "      <th>5</th>\n",
       "      <td>virginica</td>\n",
       "      <td>versicolor</td>\n",
       "      <td>2.173700</td>\n",
       "      <td>0.548631</td>\n",
       "      <td>False</td>\n",
       "      <td>22.435017</td>\n",
       "      <td>2.315380</td>\n",
       "      <td>False</td>\n",
       "    </tr>\n",
       "  </tbody>\n",
       "</table>\n",
       "</div>"
      ],
      "text/plain": [
       "      class 1     class 2  intra_euclid  inter_euclid  separated_euclid  \\\n",
       "0      setosa  versicolor      0.975411      1.428571              True   \n",
       "1  versicolor      setosa      1.434449      2.005712              True   \n",
       "2      setosa   virginica      0.975411      2.580930              True   \n",
       "3   virginica      setosa      2.173700      3.323073              True   \n",
       "4  versicolor   virginica      1.434449      0.485154             False   \n",
       "5   virginica  versicolor      2.173700      0.548631             False   \n",
       "\n",
       "   intra_mahala  inter_mahala  separated_mahala  \n",
       "0      6.541954      5.299098             False  \n",
       "1      8.780508      5.661205             False  \n",
       "2      6.541954     10.489044              True  \n",
       "3     22.435017     33.284382              True  \n",
       "4      8.780508      0.163189             False  \n",
       "5     22.435017      2.315380             False  "
      ]
     },
     "metadata": {},
     "execution_count": 61
    }
   ],
   "metadata": {}
  },
  {
   "cell_type": "markdown",
   "source": [
    "We can conclude that *setosa* and *versicolor* are separated, as well as *setosa* and *virginica*.\n",
    "\n",
    "However, we cannot assert that *versicolor* and *virginica* are separated."
   ],
   "metadata": {}
  },
  {
   "cell_type": "markdown",
   "source": [
    "## Method 2 - visualisation"
   ],
   "metadata": {}
  },
  {
   "cell_type": "code",
   "execution_count": 62,
   "source": [
    "from seaborn import pairplot\n",
    "\n",
    "pairplot(iris, hue='species')"
   ],
   "outputs": [],
   "metadata": {}
  },
  {
   "cell_type": "markdown",
   "source": [
    "We can see that in each case we distinguish (more or less) clearly the three types of flowers. We can therefore conclude that each variable carries information (typically statistical variance) about the type of flower independently.\n",
    "\n",
    "If we could choose only one variable, it might be the width of the petals, but the results would be far from perfect. In fact, *virginica* and *versicolor* slightly overlap so are not linearly separable. Thus, let's transform variables and apply PCA to solve this."
   ],
   "metadata": {}
  }
 ],
 "metadata": {
  "interpreter": {
   "hash": "4dfb552bd7b425c8d023d8146f63bba2f8bb50191df3a2410ecd215b37408267"
  },
  "kernelspec": {
   "name": "python3",
   "display_name": "Python 3.9.7 64-bit ('venv': venv)"
  },
  "language_info": {
   "codemirror_mode": {
    "name": "ipython",
    "version": 3
   },
   "file_extension": ".py",
   "mimetype": "text/x-python",
   "name": "python",
   "nbconvert_exporter": "python",
   "pygments_lexer": "ipython3",
   "version": "3.9.7"
  }
 },
 "nbformat": 4,
 "nbformat_minor": 2
}