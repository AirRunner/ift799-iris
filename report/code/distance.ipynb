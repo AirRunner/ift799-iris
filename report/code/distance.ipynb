{
 "cells": [
  {
   "cell_type": "markdown",
   "metadata": {},
   "source": [
    "# Data Science Assignment 1 - Iris dataset"
   ]
  },
  {
   "cell_type": "markdown",
   "metadata": {},
   "source": [
    "The goal is to determine wether or not the various classes of Iris are separated."
   ]
  },
  {
   "cell_type": "markdown",
   "metadata": {},
   "source": [
    "## Method 1 - distances"
   ]
  },
  {
   "cell_type": "code",
   "execution_count": 1,
   "metadata": {},
   "outputs": [],
   "source": [
    "import pandas as pd\n",
    "\n",
    "iris = pd.read_csv(\"data/iris.csv\")"
   ]
  },
  {
   "cell_type": "markdown",
   "metadata": {},
   "source": [
    "### Intra-class distance"
   ]
  },
  {
   "cell_type": "code",
   "execution_count": 2,
   "metadata": {},
   "outputs": [
    {
     "name": "stdout",
     "output_type": "stream",
     "text": [
      "Euclidean: 1.2480304483465137\n",
      "Mahalanobis: 3.5110737195224972\n"
     ]
    }
   ],
   "source": [
    "import numpy as np\n",
    "from methods.distances import intra_class\n",
    "\n",
    "cov_setosa = np.cov(iris[iris['species'] == 'setosa'].drop('species', axis=1).transpose())\n",
    "\n",
    "print(\"Euclidean:\", intra_class(iris, 'setosa'))\n",
    "print(\"Mahalanobis:\", intra_class(iris, 'setosa', metric=\"mahalanobis\", cov=cov_setosa))"
   ]
  },
  {
   "cell_type": "markdown",
   "metadata": {},
   "source": [
    "### Inter-class distance"
   ]
  },
  {
   "cell_type": "code",
   "execution_count": 3,
   "metadata": {},
   "outputs": [
    {
     "name": "stdout",
     "output_type": "stream",
     "text": [
      "Euclidean: 1.9911755321919762\n",
      "Mahalanobis: 11.652741905581726\n"
     ]
    }
   ],
   "source": [
    "from methods.distances import inter_class\n",
    "\n",
    "print(\"Euclidean:\", inter_class(iris, 'versicolor', 'setosa'))\n",
    "print(\"Mahalanobis:\", inter_class(iris, 'versicolor', 'setosa', metric=\"mahalanobis\", cov=cov_setosa))"
   ]
  },
  {
   "cell_type": "markdown",
   "metadata": {},
   "source": [
    "### Pair distances"
   ]
  },
  {
   "cell_type": "markdown",
   "metadata": {},
   "source": [
    "#### All four variables"
   ]
  },
  {
   "cell_type": "code",
   "execution_count": 4,
   "metadata": {},
   "outputs": [
    {
     "data": {
      "text/html": [
       "<div>\n",
       "<style scoped>\n",
       "    .dataframe tbody tr th:only-of-type {\n",
       "        vertical-align: middle;\n",
       "    }\n",
       "\n",
       "    .dataframe tbody tr th {\n",
       "        vertical-align: top;\n",
       "    }\n",
       "\n",
       "    .dataframe thead th {\n",
       "        text-align: right;\n",
       "    }\n",
       "</style>\n",
       "<table border=\"1\" class=\"dataframe\">\n",
       "  <thead>\n",
       "    <tr style=\"text-align: right;\">\n",
       "      <th></th>\n",
       "      <th>class 1</th>\n",
       "      <th>class 2</th>\n",
       "      <th>intra_euclid</th>\n",
       "      <th>inter_euclid</th>\n",
       "      <th>separated_euclid</th>\n",
       "      <th>intra_mahala</th>\n",
       "      <th>inter_mahala</th>\n",
       "      <th>separated_mahala</th>\n",
       "    </tr>\n",
       "  </thead>\n",
       "  <tbody>\n",
       "    <tr>\n",
       "      <th>0</th>\n",
       "      <td>setosa</td>\n",
       "      <td>versicolor</td>\n",
       "      <td>1.248030</td>\n",
       "      <td>1.991176</td>\n",
       "      <td>True</td>\n",
       "      <td>3.511074</td>\n",
       "      <td>11.652742</td>\n",
       "      <td>True</td>\n",
       "    </tr>\n",
       "    <tr>\n",
       "      <th>1</th>\n",
       "      <td>versicolor</td>\n",
       "      <td>setosa</td>\n",
       "      <td>1.552569</td>\n",
       "      <td>2.861271</td>\n",
       "      <td>True</td>\n",
       "      <td>3.534044</td>\n",
       "      <td>7.312052</td>\n",
       "      <td>True</td>\n",
       "    </tr>\n",
       "    <tr>\n",
       "      <th>2</th>\n",
       "      <td>setosa</td>\n",
       "      <td>virginica</td>\n",
       "      <td>1.248030</td>\n",
       "      <td>3.495137</td>\n",
       "      <td>True</td>\n",
       "      <td>3.511074</td>\n",
       "      <td>20.942646</td>\n",
       "      <td>True</td>\n",
       "    </tr>\n",
       "    <tr>\n",
       "      <th>3</th>\n",
       "      <td>virginica</td>\n",
       "      <td>setosa</td>\n",
       "      <td>2.070507</td>\n",
       "      <td>4.344813</td>\n",
       "      <td>True</td>\n",
       "      <td>3.697174</td>\n",
       "      <td>11.111181</td>\n",
       "      <td>True</td>\n",
       "    </tr>\n",
       "    <tr>\n",
       "      <th>4</th>\n",
       "      <td>versicolor</td>\n",
       "      <td>virginica</td>\n",
       "      <td>1.552569</td>\n",
       "      <td>0.757147</td>\n",
       "      <td>False</td>\n",
       "      <td>3.534044</td>\n",
       "      <td>2.319398</td>\n",
       "      <td>False</td>\n",
       "    </tr>\n",
       "    <tr>\n",
       "      <th>5</th>\n",
       "      <td>virginica</td>\n",
       "      <td>versicolor</td>\n",
       "      <td>2.070507</td>\n",
       "      <td>0.651306</td>\n",
       "      <td>False</td>\n",
       "      <td>3.697174</td>\n",
       "      <td>1.655257</td>\n",
       "      <td>False</td>\n",
       "    </tr>\n",
       "  </tbody>\n",
       "</table>\n",
       "</div>"
      ],
      "text/plain": [
       "      class 1     class 2  intra_euclid  inter_euclid  separated_euclid  \\\n",
       "0      setosa  versicolor      1.248030      1.991176              True   \n",
       "1  versicolor      setosa      1.552569      2.861271              True   \n",
       "2      setosa   virginica      1.248030      3.495137              True   \n",
       "3   virginica      setosa      2.070507      4.344813              True   \n",
       "4  versicolor   virginica      1.552569      0.757147             False   \n",
       "5   virginica  versicolor      2.070507      0.651306             False   \n",
       "\n",
       "   intra_mahala  inter_mahala  separated_mahala  \n",
       "0      3.511074     11.652742              True  \n",
       "1      3.534044      7.312052              True  \n",
       "2      3.511074     20.942646              True  \n",
       "3      3.697174     11.111181              True  \n",
       "4      3.534044      2.319398             False  \n",
       "5      3.697174      1.655257             False  "
      ]
     },
     "execution_count": 4,
     "metadata": {},
     "output_type": "execute_result"
    }
   ],
   "source": [
    "from methods.distances import pair_distances\n",
    "\n",
    "pair_distances(iris)"
   ]
  },
  {
   "cell_type": "markdown",
   "metadata": {},
   "source": [
    "We can conclude that *setosa* and *versicolor* are separated, as well as *setosa* and *virginica*.\n",
    "\n",
    "However, we cannot assert that *versicolor* and *virginica* are separated."
   ]
  },
  {
   "cell_type": "markdown",
   "metadata": {},
   "source": [
    "#### Variables combinations"
   ]
  },
  {
   "cell_type": "code",
   "execution_count": 5,
   "metadata": {},
   "outputs": [
    {
     "name": "stdout",
     "output_type": "stream",
     "text": [
      "('sepal_length', 'sepal_width')\n",
      "      class 1     class 2  intra_euclid  inter_euclid  separated_euclid  \\\n",
      "0      setosa  versicolor      1.236293      0.581739             False   \n",
      "1  versicolor      setosa      1.212021      0.827161             False   \n",
      "2      setosa   virginica      1.236293      0.864419             False   \n",
      "3   virginica      setosa      1.753288      1.208478             False   \n",
      "4  versicolor   virginica      1.212021      0.139270             False   \n",
      "5   virginica  versicolor      1.753288      0.028636             False   \n",
      "\n",
      "   intra_mahala  inter_mahala  separated_mahala  \n",
      "0      3.192316      3.131211             False  \n",
      "1      2.529640      2.687102              True  \n",
      "2      3.192316      3.335255              True  \n",
      "3      2.812756      2.850627              True  \n",
      "4      2.529640      0.281590             False  \n",
      "5      2.812756      0.083120             False  \n",
      "('sepal_length', 'petal_length')\n",
      "      class 1     class 2  intra_euclid  inter_euclid  separated_euclid  \\\n",
      "0      setosa  versicolor      0.836110      1.540870              True   \n",
      "1  versicolor      setosa      1.512116      2.503696              True   \n",
      "2      setosa   virginica      0.836110      3.039849              True   \n",
      "3   virginica      setosa      1.988982      3.943507              True   \n",
      "4  versicolor   virginica      1.512116      0.543779             False   \n",
      "5   virginica  versicolor      1.988982      0.563248             False   \n",
      "\n",
      "   intra_mahala  inter_mahala  separated_mahala  \n",
      "0      3.141738      9.120231              True  \n",
      "1      2.750411      5.572681              True  \n",
      "2      3.141738     18.239324              True  \n",
      "3      2.764348      8.784736              True  \n",
      "4      2.750411      1.269951             False  \n",
      "5      2.764348      0.925544             False  \n",
      "('sepal_length', 'petal_width')\n",
      "      class 1     class 2  intra_euclid  inter_euclid  separated_euclid  \\\n",
      "0      setosa  versicolor      0.795331      0.754024             False   \n",
      "1  versicolor      setosa      1.086081      0.955600             False   \n",
      "2      setosa   virginica      0.795331      1.457859              True   \n",
      "3   virginica      setosa      1.719192      1.852679              True   \n",
      "4  versicolor   virginica      1.086081      0.179922             False   \n",
      "5   virginica  versicolor      1.719192      0.344703             False   \n",
      "\n",
      "   intra_mahala  inter_mahala  separated_mahala  \n",
      "0      3.502012      7.154711              True  \n",
      "1      2.908408      3.678467              True  \n",
      "2      3.502012     10.950432              True  \n",
      "3      2.694025      5.303484              True  \n",
      "4      2.908408      0.397883             False  \n",
      "5      2.694025      1.209464             False  \n",
      "('sepal_width', 'petal_length')\n",
      "      class 1     class 2  intra_euclid  inter_euclid  separated_euclid  \\\n",
      "0      setosa  versicolor      1.139574      1.796282              True   \n",
      "1  versicolor      setosa      1.288604      2.442642              True   \n",
      "2      setosa   virginica      1.139574      3.176575              True   \n",
      "3   virginica      setosa      1.414277      3.676762              True   \n",
      "4  versicolor   virginica      1.288604      0.361248             False   \n",
      "5   virginica  versicolor      1.414277      0.528564             False   \n",
      "\n",
      "   intra_mahala  inter_mahala  separated_mahala  \n",
      "0      3.003939      9.753711              True  \n",
      "1      2.791357      6.760524              True  \n",
      "2      3.003939     18.382287              True  \n",
      "3      3.379246      7.781298              True  \n",
      "4      2.791357      1.154149             False  \n",
      "5      3.379246      0.997211             False  \n",
      "('sepal_width', 'petal_width')\n",
      "      class 1     class 2  intra_euclid  inter_euclid  separated_euclid  \\\n",
      "0      setosa  versicolor      1.129292      1.045610             False   \n",
      "1  versicolor      setosa      0.836167      0.981415              True   \n",
      "2      setosa   virginica      1.129292      1.402462              True   \n",
      "3   virginica      setosa      0.935816      1.519918              True   \n",
      "4  versicolor   virginica      0.836167      0.176567             False   \n",
      "5   virginica  versicolor      0.935816      0.319612             False   \n",
      "\n",
      "   intra_mahala  inter_mahala  separated_mahala  \n",
      "0      3.413783      8.048833              True  \n",
      "1      3.329017      5.805195              True  \n",
      "2      3.413783     11.983023              True  \n",
      "3      3.099672      6.467749              True  \n",
      "4      3.329017      1.096019             False  \n",
      "5      3.099672      1.461471             False  \n",
      "('petal_length', 'petal_width')\n",
      "      class 1     class 2  intra_euclid  inter_euclid  separated_euclid  \\\n",
      "0      setosa  versicolor      0.464284      1.759193              True   \n",
      "1  versicolor      setosa      1.280108      2.535168              True   \n",
      "2      setosa   virginica      0.464284      3.368020              True   \n",
      "3   virginica      setosa      1.375565      3.997622              True   \n",
      "4  versicolor   virginica      1.280108      0.444383             False   \n",
      "5   virginica  versicolor      1.375565      0.621112             False   \n",
      "\n",
      "   intra_mahala  inter_mahala  separated_mahala  \n",
      "0      3.376105     10.412695              True  \n",
      "1      3.104908      5.160210              True  \n",
      "2      3.376105     19.438442              True  \n",
      "3      2.452632      7.733320              True  \n",
      "4      3.104908      1.678658             False  \n",
      "5      2.452632      1.354559             False  \n"
     ]
    }
   ],
   "source": [
    "from itertools import combinations\n",
    "\n",
    "# Test all combinations of 2 variables\n",
    "nb_var = 2\n",
    "\n",
    "for comb in combinations(iris.columns[:-1], nb_var):\n",
    "    iris_comb = iris[list(comb)].copy()\n",
    "    iris_comb[\"species\"] = iris['species']\n",
    "    \n",
    "    print(comb)\n",
    "    print(pair_distances(iris_comb))"
   ]
  }
 ],
 "metadata": {
  "interpreter": {
   "hash": "4dfb552bd7b425c8d023d8146f63bba2f8bb50191df3a2410ecd215b37408267"
  },
  "kernelspec": {
   "display_name": "Python 3 (ipykernel)",
   "language": "python",
   "name": "python3"
  },
  "language_info": {
   "codemirror_mode": {
    "name": "ipython",
    "version": 3
   },
   "file_extension": ".py",
   "mimetype": "text/x-python",
   "name": "python",
   "nbconvert_exporter": "python",
   "pygments_lexer": "ipython3",
   "version": "3.9.7"
  }
 },
 "nbformat": 4,
 "nbformat_minor": 2
}
